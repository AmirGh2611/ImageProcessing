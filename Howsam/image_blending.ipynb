{
 "cells": [
  {
   "cell_type": "markdown",
   "id": "78b71c07-3c8a-4fad-8be6-5866691c732e",
   "metadata": {},
   "source": [
    "## library"
   ]
  },
  {
   "cell_type": "code",
   "execution_count": 9,
   "id": "043c9da5-4055-48d3-a3a3-2ba2cf2de021",
   "metadata": {},
   "outputs": [],
   "source": [
    "import numpy as np\n",
    "import cv2\n",
    "import matplotlib.pyplot as plt"
   ]
  },
  {
   "cell_type": "markdown",
   "id": "bc379a0f-2379-4927-8ba2-001ad15eada2",
   "metadata": {},
   "source": [
    "## reading image"
   ]
  },
  {
   "cell_type": "code",
   "execution_count": 10,
   "id": "2b0ef3e2-66db-44b0-a8eb-bd479a5decf5",
   "metadata": {},
   "outputs": [],
   "source": [
    "img_eye = cv2.imread(\"Data/eye.jpg\")\n",
    "img_mask = cv2.imread(\"Data/eye-mask.png\", cv2.IMREAD_GRAYSCALE)"
   ]
  },
  {
   "cell_type": "markdown",
   "id": "72c10eea-d5cd-4d51-befb-c64c3b84abaf",
   "metadata": {},
   "source": [
    "## image normalization"
   ]
  },
  {
   "cell_type": "code",
   "execution_count": 11,
   "id": "8d52f971-6bd6-44fc-a396-e3aa71deae30",
   "metadata": {},
   "outputs": [],
   "source": [
    "def normalizer(img):\n",
    "    return (img - img.min()) / (img.max()-img.min())"
   ]
  },
  {
   "cell_type": "code",
   "execution_count": 12,
   "id": "d382d7cb-c23f-490e-8dc3-66c86c84e52c",
   "metadata": {},
   "outputs": [],
   "source": [
    "img_eye_norm = normalizer(img_eye)\n",
    "img_mask_norm = normalizer(img_mask)"
   ]
  },
  {
   "cell_type": "code",
   "execution_count": 13,
   "id": "c48bc132-43f0-439d-8898-c0ea7ffc6184",
   "metadata": {},
   "outputs": [],
   "source": [
    "img_eye_norm[..., 2] += 0.5 * img_mask_norm\n",
    "result_red_norm = normalizer(img_eye_norm)\n",
    "cv2.imshow(\"\", result_red_norm)\n",
    "cv2.waitKey()\n",
    "cv2.destroyAllWindows()"
   ]
  }
 ],
 "metadata": {
  "kernelspec": {
   "display_name": "Python 3 (ipykernel)",
   "language": "python",
   "name": "python3"
  },
  "language_info": {
   "codemirror_mode": {
    "name": "ipython",
    "version": 3
   },
   "file_extension": ".py",
   "mimetype": "text/x-python",
   "name": "python",
   "nbconvert_exporter": "python",
   "pygments_lexer": "ipython3",
   "version": "3.12.11"
  }
 },
 "nbformat": 4,
 "nbformat_minor": 5
}
